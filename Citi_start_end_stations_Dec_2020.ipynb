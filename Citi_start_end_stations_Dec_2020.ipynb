{
  "nbformat": 4,
  "nbformat_minor": 0,
  "metadata": {
    "colab": {
      "provenance": []
    },
    "kernelspec": {
      "name": "ir",
      "display_name": "R"
    },
    "language_info": {
      "name": "R"
    }
  },
  "cells": [
    {
      "cell_type": "code",
      "source": [
        "citi <- read.csv(\"202012-citibike-tripdata.csv\")\n",
        "library(ggplot2)"
      ],
      "metadata": {
        "colab": {
          "base_uri": "https://localhost:8080/"
        },
        "id": "rj_MfHzFkaQo",
        "outputId": "cdf26bda-7860-4f45-c49c-b58cfd961d86"
      },
      "execution_count": null,
      "outputs": [
        {
          "output_type": "stream",
          "name": "stderr",
          "text": [
            "Warning message in scan(file = file, what = what, sep = sep, quote = quote, dec = dec, :\n",
            "“EOF within quoted string”\n"
          ]
        }
      ]
    },
    {
      "cell_type": "markdown",
      "source": [
        "\n",
        "# Stats of Starting Station"
      ],
      "metadata": {
        "id": "cgteSs8EFzL9"
      }
    },
    {
      "cell_type": "code",
      "source": [
        "#start station counts in table format\n",
        "library(dplyr)\n",
        "top_start_station <- citi %>%\n",
        "  group_by(start.station.name) %>%\n",
        "  summarise(Counts = n()) %>%\n",
        "  arrange(desc(Counts))\n",
        "top_start_station"
      ],
      "metadata": {
        "colab": {
          "base_uri": "https://localhost:8080/",
          "height": 1000
        },
        "id": "SxG19Ywsk97q",
        "outputId": "f2fb52e1-55ea-42a3-9f04-3df30bdebdc5"
      },
      "execution_count": null,
      "outputs": [
        {
          "output_type": "display_data",
          "data": {
            "text/html": [
              "<table class=\"dataframe\">\n",
              "<caption>A tibble: 1174 × 2</caption>\n",
              "<thead>\n",
              "\t<tr><th scope=col>start.station.name</th><th scope=col>Counts</th></tr>\n",
              "\t<tr><th scope=col>&lt;chr&gt;</th><th scope=col>&lt;int&gt;</th></tr>\n",
              "</thead>\n",
              "<tbody>\n",
              "\t<tr><td><span style=white-space:pre-wrap>1 Ave &amp; E 68 St              </span></td><td>7206</td></tr>\n",
              "\t<tr><td><span style=white-space:pre-wrap>W 21 St &amp; 6 Ave              </span></td><td>6242</td></tr>\n",
              "\t<tr><td><span style=white-space:pre-wrap>E 17 St &amp; Broadway           </span></td><td>5972</td></tr>\n",
              "\t<tr><td><span style=white-space:pre-wrap>E 13 St &amp; Avenue A           </span></td><td>4750</td></tr>\n",
              "\t<tr><td><span style=white-space:pre-wrap>Broadway &amp; W 60 St           </span></td><td>4726</td></tr>\n",
              "\t<tr><td><span style=white-space:pre-wrap>Broadway &amp; E 14 St           </span></td><td>4620</td></tr>\n",
              "\t<tr><td><span style=white-space:pre-wrap>Grand St &amp; Elizabeth St      </span></td><td>4403</td></tr>\n",
              "\t<tr><td><span style=white-space:pre-wrap>E 33 St &amp; 1 Ave              </span></td><td>4400</td></tr>\n",
              "\t<tr><td><span style=white-space:pre-wrap>University Pl &amp; E 14 St      </span></td><td>4399</td></tr>\n",
              "\t<tr><td><span style=white-space:pre-wrap>E 27 St &amp; 1 Ave              </span></td><td>4145</td></tr>\n",
              "\t<tr><td><span style=white-space:pre-wrap>Broadway &amp; E 22 St           </span></td><td>4070</td></tr>\n",
              "\t<tr><td><span style=white-space:pre-wrap>6 Ave &amp; W 33 St              </span></td><td>4058</td></tr>\n",
              "\t<tr><td><span style=white-space:pre-wrap>Cleveland Pl &amp; Spring St     </span></td><td>3985</td></tr>\n",
              "\t<tr><td><span style=white-space:pre-wrap>Clinton St &amp; Grand St        </span></td><td>3940</td></tr>\n",
              "\t<tr><td>Pershing Square North        </td><td>3927</td></tr>\n",
              "\t<tr><td><span style=white-space:pre-wrap>9 Ave &amp; W 22 St              </span></td><td>3852</td></tr>\n",
              "\t<tr><td><span style=white-space:pre-wrap>1 Ave &amp; E 16 St              </span></td><td>3831</td></tr>\n",
              "\t<tr><td><span style=white-space:pre-wrap>W 41 St &amp; 8 Ave              </span></td><td>3815</td></tr>\n",
              "\t<tr><td><span style=white-space:pre-wrap>Broadway &amp; W 25 St           </span></td><td>3778</td></tr>\n",
              "\t<tr><td><span style=white-space:pre-wrap>W 33 St &amp; 7 Ave              </span></td><td>3661</td></tr>\n",
              "\t<tr><td><span style=white-space:pre-wrap>Greenwich Ave &amp; 8 Ave        </span></td><td>3659</td></tr>\n",
              "\t<tr><td><span style=white-space:pre-wrap>11 Ave &amp; W 41 St             </span></td><td>3652</td></tr>\n",
              "\t<tr><td><span style=white-space:pre-wrap>6 Ave &amp; W 34 St              </span></td><td>3645</td></tr>\n",
              "\t<tr><td><span style=white-space:pre-wrap>Broadway &amp; W 58 St           </span></td><td>3643</td></tr>\n",
              "\t<tr><td><span style=white-space:pre-wrap>W 43 St &amp; 10 Ave             </span></td><td>3630</td></tr>\n",
              "\t<tr><td><span style=white-space:pre-wrap>West St &amp; Chambers St        </span></td><td>3628</td></tr>\n",
              "\t<tr><td><span style=white-space:pre-wrap>2 Ave &amp; E 31 St              </span></td><td>3605</td></tr>\n",
              "\t<tr><td><span style=white-space:pre-wrap>8 Ave &amp; W 38 St              </span></td><td>3603</td></tr>\n",
              "\t<tr><td><span style=white-space:pre-wrap>W 24 St &amp; 7 Ave              </span></td><td>3595</td></tr>\n",
              "\t<tr><td>Christopher St &amp; Greenwich St</td><td>3549</td></tr>\n",
              "\t<tr><td>⋮</td><td>⋮</td></tr>\n",
              "\t<tr><td><span style=white-space:pre-wrap>Cauldwell Ave &amp; E 158 St    </span></td><td>28</td></tr>\n",
              "\t<tr><td><span style=white-space:pre-wrap>Ogden Ave &amp; Merriam Ave     </span></td><td>28</td></tr>\n",
              "\t<tr><td><span style=white-space:pre-wrap>Sheridan Ave &amp; E 172 St     </span></td><td>28</td></tr>\n",
              "\t<tr><td><span style=white-space:pre-wrap>E 165 St &amp; Fox St           </span></td><td>24</td></tr>\n",
              "\t<tr><td><span style=white-space:pre-wrap>Southern Blvd &amp; E 142 St    </span></td><td>24</td></tr>\n",
              "\t<tr><td><span style=white-space:pre-wrap>Union Ave &amp; E 169 St        </span></td><td>24</td></tr>\n",
              "\t<tr><td><span style=white-space:pre-wrap>Anderson Ave &amp; W 164 St     </span></td><td>23</td></tr>\n",
              "\t<tr><td>Wilkins Ave &amp; Crotona Park E</td><td>23</td></tr>\n",
              "\t<tr><td><span style=white-space:pre-wrap>Stephen St &amp; Seneca Ave     </span></td><td>21</td></tr>\n",
              "\t<tr><td><span style=white-space:pre-wrap>University Ave &amp; W 168 St   </span></td><td>21</td></tr>\n",
              "\t<tr><td><span style=white-space:pre-wrap>18 St &amp; 27 Ave              </span></td><td>20</td></tr>\n",
              "\t<tr><td><span style=white-space:pre-wrap>8 St &amp; Astoria Blvd         </span></td><td>19</td></tr>\n",
              "\t<tr><td>Crotona Park East &amp; E 173 St</td><td>19</td></tr>\n",
              "\t<tr><td><span style=white-space:pre-wrap>Jerome Ave &amp; Ogden Ave      </span></td><td>18</td></tr>\n",
              "\t<tr><td><span style=white-space:pre-wrap>Dawson St &amp; Intervale Ave   </span></td><td>16</td></tr>\n",
              "\t<tr><td><span style=white-space:pre-wrap>Fulton Ave &amp; E 172 St       </span></td><td>15</td></tr>\n",
              "\t<tr><td><span style=white-space:pre-wrap>E 133 St &amp; Cypress Pl       </span></td><td>14</td></tr>\n",
              "\t<tr><td><span style=white-space:pre-wrap>Hoe Ave &amp; Jennings St       </span></td><td>12</td></tr>\n",
              "\t<tr><td><span style=white-space:pre-wrap>Prospect Ave &amp; Jennings St  </span></td><td>11</td></tr>\n",
              "\t<tr><td><span style=white-space:pre-wrap>Seneca Ave &amp; Irvine St      </span></td><td>11</td></tr>\n",
              "\t<tr><td><span style=white-space:pre-wrap>Southern Blvd &amp; E 174 St    </span></td><td>10</td></tr>\n",
              "\t<tr><td><span style=white-space:pre-wrap>Garrison Ave &amp; Manida St    </span></td><td> 9</td></tr>\n",
              "\t<tr><td><span style=white-space:pre-wrap>Morris Ave &amp; E 171 St       </span></td><td> 8</td></tr>\n",
              "\t<tr><td><span style=white-space:pre-wrap>35 St &amp; 23 Ave              </span></td><td> 6</td></tr>\n",
              "\t<tr><td><span style=white-space:pre-wrap>Barry St &amp; Tiffany St       </span></td><td> 6</td></tr>\n",
              "\t<tr><td><span style=white-space:pre-wrap>Charlotte St &amp; Boston Rd    </span></td><td> 3</td></tr>\n",
              "\t<tr><td><span style=white-space:pre-wrap>Faile St &amp; Garrison Ave     </span></td><td> 3</td></tr>\n",
              "\t<tr><td>W 167 St &amp; St. Nicholas Ave </td><td> 3</td></tr>\n",
              "\t<tr><td><span style=white-space:pre-wrap>24 St &amp; 38 Ave              </span></td><td> 2</td></tr>\n",
              "\t<tr><td><span style=white-space:pre-wrap>Morris Ave &amp; E 163 St       </span></td><td> 1</td></tr>\n",
              "</tbody>\n",
              "</table>\n"
            ],
            "text/markdown": "\nA tibble: 1174 × 2\n\n| start.station.name &lt;chr&gt; | Counts &lt;int&gt; |\n|---|---|\n| 1 Ave &amp; E 68 St               | 7206 |\n| W 21 St &amp; 6 Ave               | 6242 |\n| E 17 St &amp; Broadway            | 5972 |\n| E 13 St &amp; Avenue A            | 4750 |\n| Broadway &amp; W 60 St            | 4726 |\n| Broadway &amp; E 14 St            | 4620 |\n| Grand St &amp; Elizabeth St       | 4403 |\n| E 33 St &amp; 1 Ave               | 4400 |\n| University Pl &amp; E 14 St       | 4399 |\n| E 27 St &amp; 1 Ave               | 4145 |\n| Broadway &amp; E 22 St            | 4070 |\n| 6 Ave &amp; W 33 St               | 4058 |\n| Cleveland Pl &amp; Spring St      | 3985 |\n| Clinton St &amp; Grand St         | 3940 |\n| Pershing Square North         | 3927 |\n| 9 Ave &amp; W 22 St               | 3852 |\n| 1 Ave &amp; E 16 St               | 3831 |\n| W 41 St &amp; 8 Ave               | 3815 |\n| Broadway &amp; W 25 St            | 3778 |\n| W 33 St &amp; 7 Ave               | 3661 |\n| Greenwich Ave &amp; 8 Ave         | 3659 |\n| 11 Ave &amp; W 41 St              | 3652 |\n| 6 Ave &amp; W 34 St               | 3645 |\n| Broadway &amp; W 58 St            | 3643 |\n| W 43 St &amp; 10 Ave              | 3630 |\n| West St &amp; Chambers St         | 3628 |\n| 2 Ave &amp; E 31 St               | 3605 |\n| 8 Ave &amp; W 38 St               | 3603 |\n| W 24 St &amp; 7 Ave               | 3595 |\n| Christopher St &amp; Greenwich St | 3549 |\n| ⋮ | ⋮ |\n| Cauldwell Ave &amp; E 158 St     | 28 |\n| Ogden Ave &amp; Merriam Ave      | 28 |\n| Sheridan Ave &amp; E 172 St      | 28 |\n| E 165 St &amp; Fox St            | 24 |\n| Southern Blvd &amp; E 142 St     | 24 |\n| Union Ave &amp; E 169 St         | 24 |\n| Anderson Ave &amp; W 164 St      | 23 |\n| Wilkins Ave &amp; Crotona Park E | 23 |\n| Stephen St &amp; Seneca Ave      | 21 |\n| University Ave &amp; W 168 St    | 21 |\n| 18 St &amp; 27 Ave               | 20 |\n| 8 St &amp; Astoria Blvd          | 19 |\n| Crotona Park East &amp; E 173 St | 19 |\n| Jerome Ave &amp; Ogden Ave       | 18 |\n| Dawson St &amp; Intervale Ave    | 16 |\n| Fulton Ave &amp; E 172 St        | 15 |\n| E 133 St &amp; Cypress Pl        | 14 |\n| Hoe Ave &amp; Jennings St        | 12 |\n| Prospect Ave &amp; Jennings St   | 11 |\n| Seneca Ave &amp; Irvine St       | 11 |\n| Southern Blvd &amp; E 174 St     | 10 |\n| Garrison Ave &amp; Manida St     |  9 |\n| Morris Ave &amp; E 171 St        |  8 |\n| 35 St &amp; 23 Ave               |  6 |\n| Barry St &amp; Tiffany St        |  6 |\n| Charlotte St &amp; Boston Rd     |  3 |\n| Faile St &amp; Garrison Ave      |  3 |\n| W 167 St &amp; St. Nicholas Ave  |  3 |\n| 24 St &amp; 38 Ave               |  2 |\n| Morris Ave &amp; E 163 St        |  1 |\n\n",
            "text/latex": "A tibble: 1174 × 2\n\\begin{tabular}{ll}\n start.station.name & Counts\\\\\n <chr> & <int>\\\\\n\\hline\n\t 1 Ave \\& E 68 St               & 7206\\\\\n\t W 21 St \\& 6 Ave               & 6242\\\\\n\t E 17 St \\& Broadway            & 5972\\\\\n\t E 13 St \\& Avenue A            & 4750\\\\\n\t Broadway \\& W 60 St            & 4726\\\\\n\t Broadway \\& E 14 St            & 4620\\\\\n\t Grand St \\& Elizabeth St       & 4403\\\\\n\t E 33 St \\& 1 Ave               & 4400\\\\\n\t University Pl \\& E 14 St       & 4399\\\\\n\t E 27 St \\& 1 Ave               & 4145\\\\\n\t Broadway \\& E 22 St            & 4070\\\\\n\t 6 Ave \\& W 33 St               & 4058\\\\\n\t Cleveland Pl \\& Spring St      & 3985\\\\\n\t Clinton St \\& Grand St         & 3940\\\\\n\t Pershing Square North         & 3927\\\\\n\t 9 Ave \\& W 22 St               & 3852\\\\\n\t 1 Ave \\& E 16 St               & 3831\\\\\n\t W 41 St \\& 8 Ave               & 3815\\\\\n\t Broadway \\& W 25 St            & 3778\\\\\n\t W 33 St \\& 7 Ave               & 3661\\\\\n\t Greenwich Ave \\& 8 Ave         & 3659\\\\\n\t 11 Ave \\& W 41 St              & 3652\\\\\n\t 6 Ave \\& W 34 St               & 3645\\\\\n\t Broadway \\& W 58 St            & 3643\\\\\n\t W 43 St \\& 10 Ave              & 3630\\\\\n\t West St \\& Chambers St         & 3628\\\\\n\t 2 Ave \\& E 31 St               & 3605\\\\\n\t 8 Ave \\& W 38 St               & 3603\\\\\n\t W 24 St \\& 7 Ave               & 3595\\\\\n\t Christopher St \\& Greenwich St & 3549\\\\\n\t ⋮ & ⋮\\\\\n\t Cauldwell Ave \\& E 158 St     & 28\\\\\n\t Ogden Ave \\& Merriam Ave      & 28\\\\\n\t Sheridan Ave \\& E 172 St      & 28\\\\\n\t E 165 St \\& Fox St            & 24\\\\\n\t Southern Blvd \\& E 142 St     & 24\\\\\n\t Union Ave \\& E 169 St         & 24\\\\\n\t Anderson Ave \\& W 164 St      & 23\\\\\n\t Wilkins Ave \\& Crotona Park E & 23\\\\\n\t Stephen St \\& Seneca Ave      & 21\\\\\n\t University Ave \\& W 168 St    & 21\\\\\n\t 18 St \\& 27 Ave               & 20\\\\\n\t 8 St \\& Astoria Blvd          & 19\\\\\n\t Crotona Park East \\& E 173 St & 19\\\\\n\t Jerome Ave \\& Ogden Ave       & 18\\\\\n\t Dawson St \\& Intervale Ave    & 16\\\\\n\t Fulton Ave \\& E 172 St        & 15\\\\\n\t E 133 St \\& Cypress Pl        & 14\\\\\n\t Hoe Ave \\& Jennings St        & 12\\\\\n\t Prospect Ave \\& Jennings St   & 11\\\\\n\t Seneca Ave \\& Irvine St       & 11\\\\\n\t Southern Blvd \\& E 174 St     & 10\\\\\n\t Garrison Ave \\& Manida St     &  9\\\\\n\t Morris Ave \\& E 171 St        &  8\\\\\n\t 35 St \\& 23 Ave               &  6\\\\\n\t Barry St \\& Tiffany St        &  6\\\\\n\t Charlotte St \\& Boston Rd     &  3\\\\\n\t Faile St \\& Garrison Ave      &  3\\\\\n\t W 167 St \\& St. Nicholas Ave  &  3\\\\\n\t 24 St \\& 38 Ave               &  2\\\\\n\t Morris Ave \\& E 163 St        &  1\\\\\n\\end{tabular}\n",
            "text/plain": [
              "     start.station.name            Counts\n",
              "1    1 Ave & E 68 St               7206  \n",
              "2    W 21 St & 6 Ave               6242  \n",
              "3    E 17 St & Broadway            5972  \n",
              "4    E 13 St & Avenue A            4750  \n",
              "5    Broadway & W 60 St            4726  \n",
              "6    Broadway & E 14 St            4620  \n",
              "7    Grand St & Elizabeth St       4403  \n",
              "8    E 33 St & 1 Ave               4400  \n",
              "9    University Pl & E 14 St       4399  \n",
              "10   E 27 St & 1 Ave               4145  \n",
              "11   Broadway & E 22 St            4070  \n",
              "12   6 Ave & W 33 St               4058  \n",
              "13   Cleveland Pl & Spring St      3985  \n",
              "14   Clinton St & Grand St         3940  \n",
              "15   Pershing Square North         3927  \n",
              "16   9 Ave & W 22 St               3852  \n",
              "17   1 Ave & E 16 St               3831  \n",
              "18   W 41 St & 8 Ave               3815  \n",
              "19   Broadway & W 25 St            3778  \n",
              "20   W 33 St & 7 Ave               3661  \n",
              "21   Greenwich Ave & 8 Ave         3659  \n",
              "22   11 Ave & W 41 St              3652  \n",
              "23   6 Ave & W 34 St               3645  \n",
              "24   Broadway & W 58 St            3643  \n",
              "25   W 43 St & 10 Ave              3630  \n",
              "26   West St & Chambers St         3628  \n",
              "27   2 Ave & E 31 St               3605  \n",
              "28   8 Ave & W 38 St               3603  \n",
              "29   W 24 St & 7 Ave               3595  \n",
              "30   Christopher St & Greenwich St 3549  \n",
              "⋮    ⋮                             ⋮     \n",
              "1145 Cauldwell Ave & E 158 St      28    \n",
              "1146 Ogden Ave & Merriam Ave       28    \n",
              "1147 Sheridan Ave & E 172 St       28    \n",
              "1148 E 165 St & Fox St             24    \n",
              "1149 Southern Blvd & E 142 St      24    \n",
              "1150 Union Ave & E 169 St          24    \n",
              "1151 Anderson Ave & W 164 St       23    \n",
              "1152 Wilkins Ave & Crotona Park E  23    \n",
              "1153 Stephen St & Seneca Ave       21    \n",
              "1154 University Ave & W 168 St     21    \n",
              "1155 18 St & 27 Ave                20    \n",
              "1156 8 St & Astoria Blvd           19    \n",
              "1157 Crotona Park East & E 173 St  19    \n",
              "1158 Jerome Ave & Ogden Ave        18    \n",
              "1159 Dawson St & Intervale Ave     16    \n",
              "1160 Fulton Ave & E 172 St         15    \n",
              "1161 E 133 St & Cypress Pl         14    \n",
              "1162 Hoe Ave & Jennings St         12    \n",
              "1163 Prospect Ave & Jennings St    11    \n",
              "1164 Seneca Ave & Irvine St        11    \n",
              "1165 Southern Blvd & E 174 St      10    \n",
              "1166 Garrison Ave & Manida St       9    \n",
              "1167 Morris Ave & E 171 St          8    \n",
              "1168 35 St & 23 Ave                 6    \n",
              "1169 Barry St & Tiffany St          6    \n",
              "1170 Charlotte St & Boston Rd       3    \n",
              "1171 Faile St & Garrison Ave        3    \n",
              "1172 W 167 St & St. Nicholas Ave    3    \n",
              "1173 24 St & 38 Ave                 2    \n",
              "1174 Morris Ave & E 163 St          1    "
            ]
          },
          "metadata": {}
        }
      ]
    },
    {
      "cell_type": "code",
      "source": [
        "# Most used starting station based on number of times used as a starting station in December\n",
        "top_start_station %>% slice_max(Counts)"
      ],
      "metadata": {
        "colab": {
          "base_uri": "https://localhost:8080/",
          "height": 129
        },
        "id": "ZnuL_E6KPRYE",
        "outputId": "d6edaa77-e2cb-4106-94c8-8fa813203569"
      },
      "execution_count": null,
      "outputs": [
        {
          "output_type": "display_data",
          "data": {
            "text/html": [
              "<table class=\"dataframe\">\n",
              "<caption>A tibble: 1 × 2</caption>\n",
              "<thead>\n",
              "\t<tr><th scope=col>start.station.name</th><th scope=col>Counts</th></tr>\n",
              "\t<tr><th scope=col>&lt;chr&gt;</th><th scope=col>&lt;int&gt;</th></tr>\n",
              "</thead>\n",
              "<tbody>\n",
              "\t<tr><td>1 Ave &amp; E 68 St</td><td>7206</td></tr>\n",
              "</tbody>\n",
              "</table>\n"
            ],
            "text/markdown": "\nA tibble: 1 × 2\n\n| start.station.name &lt;chr&gt; | Counts &lt;int&gt; |\n|---|---|\n| 1 Ave &amp; E 68 St | 7206 |\n\n",
            "text/latex": "A tibble: 1 × 2\n\\begin{tabular}{ll}\n start.station.name & Counts\\\\\n <chr> & <int>\\\\\n\\hline\n\t 1 Ave \\& E 68 St & 7206\\\\\n\\end{tabular}\n",
            "text/plain": [
              "  start.station.name Counts\n",
              "1 1 Ave & E 68 St    7206  "
            ]
          },
          "metadata": {}
        }
      ]
    },
    {
      "cell_type": "code",
      "source": [
        "# Least used starting station based on number of times used as a starting station in December\n",
        "top_start_station %>% slice_min(Counts)"
      ],
      "metadata": {
        "colab": {
          "base_uri": "https://localhost:8080/",
          "height": 129
        },
        "id": "XH8K4Cg8PcNc",
        "outputId": "1ede00ae-3050-4b3d-f336-a7e7b0b93228"
      },
      "execution_count": null,
      "outputs": [
        {
          "output_type": "display_data",
          "data": {
            "text/html": [
              "<table class=\"dataframe\">\n",
              "<caption>A tibble: 1 × 2</caption>\n",
              "<thead>\n",
              "\t<tr><th scope=col>start.station.name</th><th scope=col>Counts</th></tr>\n",
              "\t<tr><th scope=col>&lt;chr&gt;</th><th scope=col>&lt;int&gt;</th></tr>\n",
              "</thead>\n",
              "<tbody>\n",
              "\t<tr><td>Morris Ave &amp; E 163 St</td><td>1</td></tr>\n",
              "</tbody>\n",
              "</table>\n"
            ],
            "text/markdown": "\nA tibble: 1 × 2\n\n| start.station.name &lt;chr&gt; | Counts &lt;int&gt; |\n|---|---|\n| Morris Ave &amp; E 163 St | 1 |\n\n",
            "text/latex": "A tibble: 1 × 2\n\\begin{tabular}{ll}\n start.station.name & Counts\\\\\n <chr> & <int>\\\\\n\\hline\n\t Morris Ave \\& E 163 St & 1\\\\\n\\end{tabular}\n",
            "text/plain": [
              "  start.station.name    Counts\n",
              "1 Morris Ave & E 163 St 1     "
            ]
          },
          "metadata": {}
        }
      ]
    },
    {
      "cell_type": "markdown",
      "source": [
        "# End Stations"
      ],
      "metadata": {
        "id": "-ekJN7MMP4Uz"
      }
    },
    {
      "cell_type": "code",
      "source": [
        "library(dplyr)\n",
        "top_end_station <- citi %>%\n",
        "  group_by(end.station.name) %>%\n",
        "  summarise(Counts = n()) %>%\n",
        "  arrange(desc(Counts))\n",
        "top_end_station"
      ],
      "metadata": {
        "colab": {
          "base_uri": "https://localhost:8080/",
          "height": 1000
        },
        "id": "ggl7rDaTP-gv",
        "outputId": "70a3eb72-ef2b-422f-81e2-31ae2e04fc4b"
      },
      "execution_count": null,
      "outputs": [
        {
          "output_type": "display_data",
          "data": {
            "text/html": [
              "<table class=\"dataframe\">\n",
              "<caption>A tibble: 1149 × 2</caption>\n",
              "<thead>\n",
              "\t<tr><th scope=col>end.station.name</th><th scope=col>Counts</th></tr>\n",
              "\t<tr><th scope=col>&lt;chr&gt;</th><th scope=col>&lt;int&gt;</th></tr>\n",
              "</thead>\n",
              "<tbody>\n",
              "\t<tr><td><span style=white-space:pre-wrap>1 Ave &amp; E 68 St              </span></td><td>1170</td></tr>\n",
              "\t<tr><td><span style=white-space:pre-wrap>W 21 St &amp; 6 Ave              </span></td><td> 843</td></tr>\n",
              "\t<tr><td><span style=white-space:pre-wrap>E 17 St &amp; Broadway           </span></td><td> 795</td></tr>\n",
              "\t<tr><td><span style=white-space:pre-wrap>E 33 St &amp; 1 Ave              </span></td><td> 697</td></tr>\n",
              "\t<tr><td><span style=white-space:pre-wrap>University Pl &amp; E 14 St      </span></td><td> 677</td></tr>\n",
              "\t<tr><td><span style=white-space:pre-wrap>E 27 St &amp; 1 Ave              </span></td><td> 669</td></tr>\n",
              "\t<tr><td><span style=white-space:pre-wrap>E 13 St &amp; Avenue A           </span></td><td> 651</td></tr>\n",
              "\t<tr><td>Pershing Square North        </td><td> 636</td></tr>\n",
              "\t<tr><td><span style=white-space:pre-wrap>Broadway &amp; E 22 St           </span></td><td> 608</td></tr>\n",
              "\t<tr><td><span style=white-space:pre-wrap>Broadway &amp; W 60 St           </span></td><td> 591</td></tr>\n",
              "\t<tr><td><span style=white-space:pre-wrap>8 Ave &amp; W 33 St              </span></td><td> 578</td></tr>\n",
              "\t<tr><td><span style=white-space:pre-wrap>8 Ave &amp; W 38 St              </span></td><td> 561</td></tr>\n",
              "\t<tr><td><span style=white-space:pre-wrap>West St &amp; Chambers St        </span></td><td> 555</td></tr>\n",
              "\t<tr><td><span style=white-space:pre-wrap>Cleveland Pl &amp; Spring St     </span></td><td> 539</td></tr>\n",
              "\t<tr><td><span style=white-space:pre-wrap>W 33 St &amp; 7 Ave              </span></td><td> 539</td></tr>\n",
              "\t<tr><td><span style=white-space:pre-wrap>W 41 St &amp; 8 Ave              </span></td><td> 533</td></tr>\n",
              "\t<tr><td><span style=white-space:pre-wrap>Broadway &amp; E 14 St           </span></td><td> 530</td></tr>\n",
              "\t<tr><td><span style=white-space:pre-wrap>W 31 St &amp; 7 Ave              </span></td><td> 527</td></tr>\n",
              "\t<tr><td><span style=white-space:pre-wrap>E 7 St &amp; Avenue A            </span></td><td> 526</td></tr>\n",
              "\t<tr><td><span style=white-space:pre-wrap>6 Ave &amp; W 33 St              </span></td><td> 520</td></tr>\n",
              "\t<tr><td><span style=white-space:pre-wrap>Broadway &amp; W 25 St           </span></td><td> 499</td></tr>\n",
              "\t<tr><td><span style=white-space:pre-wrap>Grand St &amp; Elizabeth St      </span></td><td> 499</td></tr>\n",
              "\t<tr><td><span style=white-space:pre-wrap>E 72 St &amp; York Ave           </span></td><td> 497</td></tr>\n",
              "\t<tr><td><span style=white-space:pre-wrap>1 Ave &amp; E 39 St              </span></td><td> 492</td></tr>\n",
              "\t<tr><td><span style=white-space:pre-wrap>Greenwich Ave &amp; 8 Ave        </span></td><td> 490</td></tr>\n",
              "\t<tr><td><span style=white-space:pre-wrap>1 Ave &amp; E 16 St              </span></td><td> 485</td></tr>\n",
              "\t<tr><td>Christopher St &amp; Greenwich St</td><td> 482</td></tr>\n",
              "\t<tr><td><span style=white-space:pre-wrap>1 Ave &amp; E 62 St              </span></td><td> 478</td></tr>\n",
              "\t<tr><td><span style=white-space:pre-wrap>9 Ave &amp; W 22 St              </span></td><td> 474</td></tr>\n",
              "\t<tr><td><span style=white-space:pre-wrap>E 10 St &amp; Avenue A           </span></td><td> 473</td></tr>\n",
              "\t<tr><td>⋮</td><td>⋮</td></tr>\n",
              "\t<tr><td><span style=white-space:pre-wrap>Boston Rd &amp; Prospect Ave         </span></td><td>4</td></tr>\n",
              "\t<tr><td><span style=white-space:pre-wrap>Bushwick Ave &amp; Furman Ave        </span></td><td>4</td></tr>\n",
              "\t<tr><td><span style=white-space:pre-wrap>Cypress Ave &amp; George St          </span></td><td>4</td></tr>\n",
              "\t<tr><td><span style=white-space:pre-wrap>Dawson St &amp; Intervale Ave        </span></td><td>4</td></tr>\n",
              "\t<tr><td><span style=white-space:pre-wrap>E 128 St &amp; 3 Ave                 </span></td><td>4</td></tr>\n",
              "\t<tr><td><span style=white-space:pre-wrap>E 163 St &amp; Tiffany St            </span></td><td>4</td></tr>\n",
              "\t<tr><td><span style=white-space:pre-wrap>E 165 St &amp; Jerome Ave            </span></td><td>4</td></tr>\n",
              "\t<tr><td><span style=white-space:pre-wrap>E 170 St &amp; Clay Ave              </span></td><td>4</td></tr>\n",
              "\t<tr><td><span style=white-space:pre-wrap>Barry St &amp; Tiffany St            </span></td><td>3</td></tr>\n",
              "\t<tr><td>Concourse Village West &amp; E 156 St</td><td>3</td></tr>\n",
              "\t<tr><td><span style=white-space:pre-wrap>Crotona Park East &amp; E 173 St     </span></td><td>3</td></tr>\n",
              "\t<tr><td><span style=white-space:pre-wrap>E 155 St &amp; Courtlandt Ave        </span></td><td>3</td></tr>\n",
              "\t<tr><td><span style=white-space:pre-wrap>Hoe Ave &amp; Jennings St            </span></td><td>3</td></tr>\n",
              "\t<tr><td><span style=white-space:pre-wrap>Jerome Ave &amp; Ogden Ave           </span></td><td>3</td></tr>\n",
              "\t<tr><td><span style=white-space:pre-wrap>Waterloo Pl &amp; Crotona Park East  </span></td><td>3</td></tr>\n",
              "\t<tr><td><span style=white-space:pre-wrap>3 Ave &amp; E 172 St                 </span></td><td>2</td></tr>\n",
              "\t<tr><td><span style=white-space:pre-wrap>E 133 St &amp; Cypress Pl            </span></td><td>2</td></tr>\n",
              "\t<tr><td><span style=white-space:pre-wrap>Garrison Ave &amp; Manida St         </span></td><td>2</td></tr>\n",
              "\t<tr><td><span style=white-space:pre-wrap>Hunts Point Ave &amp; Bryant Ave     </span></td><td>2</td></tr>\n",
              "\t<tr><td><span style=white-space:pre-wrap>Southern Blvd &amp; E 142 St         </span></td><td>2</td></tr>\n",
              "\t<tr><td><span style=white-space:pre-wrap>Stephen St &amp; Seneca Ave          </span></td><td>2</td></tr>\n",
              "\t<tr><td><span style=white-space:pre-wrap>Westchester Ave &amp; Southern Blvd  </span></td><td>2</td></tr>\n",
              "\t<tr><td>                                 </td><td>1</td></tr>\n",
              "\t<tr><td><span style=white-space:pre-wrap>Anderson Ave &amp; W 164 St          </span></td><td>1</td></tr>\n",
              "\t<tr><td><span style=white-space:pre-wrap>Charlotte St &amp; Boston Rd         </span></td><td>1</td></tr>\n",
              "\t<tr><td><span style=white-space:pre-wrap>E 165 St &amp; Fox St                </span></td><td>1</td></tr>\n",
              "\t<tr><td><span style=white-space:pre-wrap>Grand Concourse &amp; E 156 St       </span></td><td>1</td></tr>\n",
              "\t<tr><td><span style=white-space:pre-wrap>Ogden Ave &amp; Merriam Ave          </span></td><td>1</td></tr>\n",
              "\t<tr><td><span style=white-space:pre-wrap>Prospect Ave &amp; Jennings St       </span></td><td>1</td></tr>\n",
              "\t<tr><td><span style=white-space:pre-wrap>Wilkins Ave &amp; Crotona Park E     </span></td><td>1</td></tr>\n",
              "</tbody>\n",
              "</table>\n"
            ],
            "text/markdown": "\nA tibble: 1149 × 2\n\n| end.station.name &lt;chr&gt; | Counts &lt;int&gt; |\n|---|---|\n| 1 Ave &amp; E 68 St               | 1170 |\n| W 21 St &amp; 6 Ave               |  843 |\n| E 17 St &amp; Broadway            |  795 |\n| E 33 St &amp; 1 Ave               |  697 |\n| University Pl &amp; E 14 St       |  677 |\n| E 27 St &amp; 1 Ave               |  669 |\n| E 13 St &amp; Avenue A            |  651 |\n| Pershing Square North         |  636 |\n| Broadway &amp; E 22 St            |  608 |\n| Broadway &amp; W 60 St            |  591 |\n| 8 Ave &amp; W 33 St               |  578 |\n| 8 Ave &amp; W 38 St               |  561 |\n| West St &amp; Chambers St         |  555 |\n| Cleveland Pl &amp; Spring St      |  539 |\n| W 33 St &amp; 7 Ave               |  539 |\n| W 41 St &amp; 8 Ave               |  533 |\n| Broadway &amp; E 14 St            |  530 |\n| W 31 St &amp; 7 Ave               |  527 |\n| E 7 St &amp; Avenue A             |  526 |\n| 6 Ave &amp; W 33 St               |  520 |\n| Broadway &amp; W 25 St            |  499 |\n| Grand St &amp; Elizabeth St       |  499 |\n| E 72 St &amp; York Ave            |  497 |\n| 1 Ave &amp; E 39 St               |  492 |\n| Greenwich Ave &amp; 8 Ave         |  490 |\n| 1 Ave &amp; E 16 St               |  485 |\n| Christopher St &amp; Greenwich St |  482 |\n| 1 Ave &amp; E 62 St               |  478 |\n| 9 Ave &amp; W 22 St               |  474 |\n| E 10 St &amp; Avenue A            |  473 |\n| ⋮ | ⋮ |\n| Boston Rd &amp; Prospect Ave          | 4 |\n| Bushwick Ave &amp; Furman Ave         | 4 |\n| Cypress Ave &amp; George St           | 4 |\n| Dawson St &amp; Intervale Ave         | 4 |\n| E 128 St &amp; 3 Ave                  | 4 |\n| E 163 St &amp; Tiffany St             | 4 |\n| E 165 St &amp; Jerome Ave             | 4 |\n| E 170 St &amp; Clay Ave               | 4 |\n| Barry St &amp; Tiffany St             | 3 |\n| Concourse Village West &amp; E 156 St | 3 |\n| Crotona Park East &amp; E 173 St      | 3 |\n| E 155 St &amp; Courtlandt Ave         | 3 |\n| Hoe Ave &amp; Jennings St             | 3 |\n| Jerome Ave &amp; Ogden Ave            | 3 |\n| Waterloo Pl &amp; Crotona Park East   | 3 |\n| 3 Ave &amp; E 172 St                  | 2 |\n| E 133 St &amp; Cypress Pl             | 2 |\n| Garrison Ave &amp; Manida St          | 2 |\n| Hunts Point Ave &amp; Bryant Ave      | 2 |\n| Southern Blvd &amp; E 142 St          | 2 |\n| Stephen St &amp; Seneca Ave           | 2 |\n| Westchester Ave &amp; Southern Blvd   | 2 |\n| <!----> | 1 |\n| Anderson Ave &amp; W 164 St           | 1 |\n| Charlotte St &amp; Boston Rd          | 1 |\n| E 165 St &amp; Fox St                 | 1 |\n| Grand Concourse &amp; E 156 St        | 1 |\n| Ogden Ave &amp; Merriam Ave           | 1 |\n| Prospect Ave &amp; Jennings St        | 1 |\n| Wilkins Ave &amp; Crotona Park E      | 1 |\n\n",
            "text/latex": "A tibble: 1149 × 2\n\\begin{tabular}{ll}\n end.station.name & Counts\\\\\n <chr> & <int>\\\\\n\\hline\n\t 1 Ave \\& E 68 St               & 1170\\\\\n\t W 21 St \\& 6 Ave               &  843\\\\\n\t E 17 St \\& Broadway            &  795\\\\\n\t E 33 St \\& 1 Ave               &  697\\\\\n\t University Pl \\& E 14 St       &  677\\\\\n\t E 27 St \\& 1 Ave               &  669\\\\\n\t E 13 St \\& Avenue A            &  651\\\\\n\t Pershing Square North         &  636\\\\\n\t Broadway \\& E 22 St            &  608\\\\\n\t Broadway \\& W 60 St            &  591\\\\\n\t 8 Ave \\& W 33 St               &  578\\\\\n\t 8 Ave \\& W 38 St               &  561\\\\\n\t West St \\& Chambers St         &  555\\\\\n\t Cleveland Pl \\& Spring St      &  539\\\\\n\t W 33 St \\& 7 Ave               &  539\\\\\n\t W 41 St \\& 8 Ave               &  533\\\\\n\t Broadway \\& E 14 St            &  530\\\\\n\t W 31 St \\& 7 Ave               &  527\\\\\n\t E 7 St \\& Avenue A             &  526\\\\\n\t 6 Ave \\& W 33 St               &  520\\\\\n\t Broadway \\& W 25 St            &  499\\\\\n\t Grand St \\& Elizabeth St       &  499\\\\\n\t E 72 St \\& York Ave            &  497\\\\\n\t 1 Ave \\& E 39 St               &  492\\\\\n\t Greenwich Ave \\& 8 Ave         &  490\\\\\n\t 1 Ave \\& E 16 St               &  485\\\\\n\t Christopher St \\& Greenwich St &  482\\\\\n\t 1 Ave \\& E 62 St               &  478\\\\\n\t 9 Ave \\& W 22 St               &  474\\\\\n\t E 10 St \\& Avenue A            &  473\\\\\n\t ⋮ & ⋮\\\\\n\t Boston Rd \\& Prospect Ave          & 4\\\\\n\t Bushwick Ave \\& Furman Ave         & 4\\\\\n\t Cypress Ave \\& George St           & 4\\\\\n\t Dawson St \\& Intervale Ave         & 4\\\\\n\t E 128 St \\& 3 Ave                  & 4\\\\\n\t E 163 St \\& Tiffany St             & 4\\\\\n\t E 165 St \\& Jerome Ave             & 4\\\\\n\t E 170 St \\& Clay Ave               & 4\\\\\n\t Barry St \\& Tiffany St             & 3\\\\\n\t Concourse Village West \\& E 156 St & 3\\\\\n\t Crotona Park East \\& E 173 St      & 3\\\\\n\t E 155 St \\& Courtlandt Ave         & 3\\\\\n\t Hoe Ave \\& Jennings St             & 3\\\\\n\t Jerome Ave \\& Ogden Ave            & 3\\\\\n\t Waterloo Pl \\& Crotona Park East   & 3\\\\\n\t 3 Ave \\& E 172 St                  & 2\\\\\n\t E 133 St \\& Cypress Pl             & 2\\\\\n\t Garrison Ave \\& Manida St          & 2\\\\\n\t Hunts Point Ave \\& Bryant Ave      & 2\\\\\n\t Southern Blvd \\& E 142 St          & 2\\\\\n\t Stephen St \\& Seneca Ave           & 2\\\\\n\t Westchester Ave \\& Southern Blvd   & 2\\\\\n\t                                   & 1\\\\\n\t Anderson Ave \\& W 164 St           & 1\\\\\n\t Charlotte St \\& Boston Rd          & 1\\\\\n\t E 165 St \\& Fox St                 & 1\\\\\n\t Grand Concourse \\& E 156 St        & 1\\\\\n\t Ogden Ave \\& Merriam Ave           & 1\\\\\n\t Prospect Ave \\& Jennings St        & 1\\\\\n\t Wilkins Ave \\& Crotona Park E      & 1\\\\\n\\end{tabular}\n",
            "text/plain": [
              "     end.station.name                  Counts\n",
              "1    1 Ave & E 68 St                   1170  \n",
              "2    W 21 St & 6 Ave                    843  \n",
              "3    E 17 St & Broadway                 795  \n",
              "4    E 33 St & 1 Ave                    697  \n",
              "5    University Pl & E 14 St            677  \n",
              "6    E 27 St & 1 Ave                    669  \n",
              "7    E 13 St & Avenue A                 651  \n",
              "8    Pershing Square North              636  \n",
              "9    Broadway & E 22 St                 608  \n",
              "10   Broadway & W 60 St                 591  \n",
              "11   8 Ave & W 33 St                    578  \n",
              "12   8 Ave & W 38 St                    561  \n",
              "13   West St & Chambers St              555  \n",
              "14   Cleveland Pl & Spring St           539  \n",
              "15   W 33 St & 7 Ave                    539  \n",
              "16   W 41 St & 8 Ave                    533  \n",
              "17   Broadway & E 14 St                 530  \n",
              "18   W 31 St & 7 Ave                    527  \n",
              "19   E 7 St & Avenue A                  526  \n",
              "20   6 Ave & W 33 St                    520  \n",
              "21   Broadway & W 25 St                 499  \n",
              "22   Grand St & Elizabeth St            499  \n",
              "23   E 72 St & York Ave                 497  \n",
              "24   1 Ave & E 39 St                    492  \n",
              "25   Greenwich Ave & 8 Ave              490  \n",
              "26   1 Ave & E 16 St                    485  \n",
              "27   Christopher St & Greenwich St      482  \n",
              "28   1 Ave & E 62 St                    478  \n",
              "29   9 Ave & W 22 St                    474  \n",
              "30   E 10 St & Avenue A                 473  \n",
              "⋮    ⋮                                 ⋮     \n",
              "1120 Boston Rd & Prospect Ave          4     \n",
              "1121 Bushwick Ave & Furman Ave         4     \n",
              "1122 Cypress Ave & George St           4     \n",
              "1123 Dawson St & Intervale Ave         4     \n",
              "1124 E 128 St & 3 Ave                  4     \n",
              "1125 E 163 St & Tiffany St             4     \n",
              "1126 E 165 St & Jerome Ave             4     \n",
              "1127 E 170 St & Clay Ave               4     \n",
              "1128 Barry St & Tiffany St             3     \n",
              "1129 Concourse Village West & E 156 St 3     \n",
              "1130 Crotona Park East & E 173 St      3     \n",
              "1131 E 155 St & Courtlandt Ave         3     \n",
              "1132 Hoe Ave & Jennings St             3     \n",
              "1133 Jerome Ave & Ogden Ave            3     \n",
              "1134 Waterloo Pl & Crotona Park East   3     \n",
              "1135 3 Ave & E 172 St                  2     \n",
              "1136 E 133 St & Cypress Pl             2     \n",
              "1137 Garrison Ave & Manida St          2     \n",
              "1138 Hunts Point Ave & Bryant Ave      2     \n",
              "1139 Southern Blvd & E 142 St          2     \n",
              "1140 Stephen St & Seneca Ave           2     \n",
              "1141 Westchester Ave & Southern Blvd   2     \n",
              "1142                                   1     \n",
              "1143 Anderson Ave & W 164 St           1     \n",
              "1144 Charlotte St & Boston Rd          1     \n",
              "1145 E 165 St & Fox St                 1     \n",
              "1146 Grand Concourse & E 156 St        1     \n",
              "1147 Ogden Ave & Merriam Ave           1     \n",
              "1148 Prospect Ave & Jennings St        1     \n",
              "1149 Wilkins Ave & Crotona Park E      1     "
            ]
          },
          "metadata": {}
        }
      ]
    },
    {
      "cell_type": "code",
      "source": [
        "top_end_station %>% slice_max(Counts)"
      ],
      "metadata": {
        "colab": {
          "base_uri": "https://localhost:8080/",
          "height": 129
        },
        "id": "zMSkS5o-b1wn",
        "outputId": "00b41027-8f87-474d-fc2c-e6f1b2291c7d"
      },
      "execution_count": null,
      "outputs": [
        {
          "output_type": "display_data",
          "data": {
            "text/html": [
              "<table class=\"dataframe\">\n",
              "<caption>A tibble: 1 × 2</caption>\n",
              "<thead>\n",
              "\t<tr><th scope=col>end.station.name</th><th scope=col>Counts</th></tr>\n",
              "\t<tr><th scope=col>&lt;chr&gt;</th><th scope=col>&lt;int&gt;</th></tr>\n",
              "</thead>\n",
              "<tbody>\n",
              "\t<tr><td>1 Ave &amp; E 68 St</td><td>1170</td></tr>\n",
              "</tbody>\n",
              "</table>\n"
            ],
            "text/markdown": "\nA tibble: 1 × 2\n\n| end.station.name &lt;chr&gt; | Counts &lt;int&gt; |\n|---|---|\n| 1 Ave &amp; E 68 St | 1170 |\n\n",
            "text/latex": "A tibble: 1 × 2\n\\begin{tabular}{ll}\n end.station.name & Counts\\\\\n <chr> & <int>\\\\\n\\hline\n\t 1 Ave \\& E 68 St & 1170\\\\\n\\end{tabular}\n",
            "text/plain": [
              "  end.station.name Counts\n",
              "1 1 Ave & E 68 St  1170  "
            ]
          },
          "metadata": {}
        }
      ]
    },
    {
      "cell_type": "code",
      "source": [
        "top_end_station %>% slice_min(Counts)"
      ],
      "metadata": {
        "colab": {
          "base_uri": "https://localhost:8080/",
          "height": 349
        },
        "id": "F1UlpZmfb8ge",
        "outputId": "fe49b704-2d88-4c18-8a8e-9c40b1a8e7af"
      },
      "execution_count": null,
      "outputs": [
        {
          "output_type": "display_data",
          "data": {
            "text/html": [
              "<table class=\"dataframe\">\n",
              "<caption>A tibble: 8 × 2</caption>\n",
              "<thead>\n",
              "\t<tr><th scope=col>end.station.name</th><th scope=col>Counts</th></tr>\n",
              "\t<tr><th scope=col>&lt;chr&gt;</th><th scope=col>&lt;int&gt;</th></tr>\n",
              "</thead>\n",
              "<tbody>\n",
              "\t<tr><td>                            </td><td>1</td></tr>\n",
              "\t<tr><td><span style=white-space:pre-wrap>Anderson Ave &amp; W 164 St     </span></td><td>1</td></tr>\n",
              "\t<tr><td><span style=white-space:pre-wrap>Charlotte St &amp; Boston Rd    </span></td><td>1</td></tr>\n",
              "\t<tr><td><span style=white-space:pre-wrap>E 165 St &amp; Fox St           </span></td><td>1</td></tr>\n",
              "\t<tr><td><span style=white-space:pre-wrap>Grand Concourse &amp; E 156 St  </span></td><td>1</td></tr>\n",
              "\t<tr><td><span style=white-space:pre-wrap>Ogden Ave &amp; Merriam Ave     </span></td><td>1</td></tr>\n",
              "\t<tr><td><span style=white-space:pre-wrap>Prospect Ave &amp; Jennings St  </span></td><td>1</td></tr>\n",
              "\t<tr><td>Wilkins Ave &amp; Crotona Park E</td><td>1</td></tr>\n",
              "</tbody>\n",
              "</table>\n"
            ],
            "text/markdown": "\nA tibble: 8 × 2\n\n| end.station.name &lt;chr&gt; | Counts &lt;int&gt; |\n|---|---|\n| <!----> | 1 |\n| Anderson Ave &amp; W 164 St      | 1 |\n| Charlotte St &amp; Boston Rd     | 1 |\n| E 165 St &amp; Fox St            | 1 |\n| Grand Concourse &amp; E 156 St   | 1 |\n| Ogden Ave &amp; Merriam Ave      | 1 |\n| Prospect Ave &amp; Jennings St   | 1 |\n| Wilkins Ave &amp; Crotona Park E | 1 |\n\n",
            "text/latex": "A tibble: 8 × 2\n\\begin{tabular}{ll}\n end.station.name & Counts\\\\\n <chr> & <int>\\\\\n\\hline\n\t                              & 1\\\\\n\t Anderson Ave \\& W 164 St      & 1\\\\\n\t Charlotte St \\& Boston Rd     & 1\\\\\n\t E 165 St \\& Fox St            & 1\\\\\n\t Grand Concourse \\& E 156 St   & 1\\\\\n\t Ogden Ave \\& Merriam Ave      & 1\\\\\n\t Prospect Ave \\& Jennings St   & 1\\\\\n\t Wilkins Ave \\& Crotona Park E & 1\\\\\n\\end{tabular}\n",
            "text/plain": [
              "  end.station.name             Counts\n",
              "1                              1     \n",
              "2 Anderson Ave & W 164 St      1     \n",
              "3 Charlotte St & Boston Rd     1     \n",
              "4 E 165 St & Fox St            1     \n",
              "5 Grand Concourse & E 156 St   1     \n",
              "6 Ogden Ave & Merriam Ave      1     \n",
              "7 Prospect Ave & Jennings St   1     \n",
              "8 Wilkins Ave & Crotona Park E 1     "
            ]
          },
          "metadata": {}
        }
      ]
    }
  ]
}